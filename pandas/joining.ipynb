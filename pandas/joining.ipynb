{
 "cells": [
  {
   "cell_type": "code",
   "execution_count": 49,
   "metadata": {
    "collapsed": true
   },
   "outputs": [],
   "source": [
    "import pandas as pd\n",
    "d1={'first_name':['anu','mehak','reena','rohit','ankush','kush'],'id':[11,13,14,16,17,22]}\n",
    "d2={'id':[20,22,25],'first_name':['guntash','jasleen','sehaj']}\n",
    "\n",
    "d3={'id':[21,26,27],'first_name':['aman','gaman','sehajpreet'],'roll-no':[101,102,103]}\n"
   ]
  },
  {
   "cell_type": "code",
   "execution_count": 50,
   "metadata": {},
   "outputs": [
    {
     "name": "stdout",
     "output_type": "stream",
     "text": [
      "  first_name  id\n",
      "0        anu  11\n",
      "1      mehak  13\n",
      "2      reena  14\n",
      "3      rohit  16\n",
      "4     ankush  17\n",
      "5       kush  22\n",
      "\n",
      "\n",
      "  first_name  id\n",
      "0    guntash  20\n",
      "1    jasleen  22\n",
      "2      sehaj  25\n",
      "\n",
      "\n",
      "   first_name  id  roll-no\n",
      "0        aman  21      101\n",
      "1       gaman  26      102\n",
      "2  sehajpreet  27      103\n"
     ]
    }
   ],
   "source": [
    "df1=pd.DataFrame(d1)\n",
    "df2=pd.DataFrame(d2)\n",
    "df3=pd.DataFrame(d3)\n",
    "print(df1)\n",
    "\n",
    "print(\"\\n\")\n",
    "print(df2)\n",
    "print(\"\\n\")\n",
    "print(df3)"
   ]
  },
  {
   "cell_type": "markdown",
   "metadata": {},
   "source": [
    "# CONCATENATION"
   ]
  },
  {
   "cell_type": "code",
   "execution_count": 51,
   "metadata": {},
   "outputs": [
    {
     "name": "stdout",
     "output_type": "stream",
     "text": [
      "  first_name  id\n",
      "0        anu  11\n",
      "1      mehak  13\n",
      "2      reena  14\n",
      "3      rohit  16\n",
      "4     ankush  17\n",
      "5       kush  22\n",
      "0    guntash  20\n",
      "1    jasleen  22\n",
      "2      sehaj  25\n"
     ]
    }
   ],
   "source": [
    "a1=pd.concat([df1,df2]) #concat via row vise,'a' is new data frame \n",
    "print(a1)\n",
    "\n",
    "\n"
   ]
  },
  {
   "cell_type": "code",
   "execution_count": 52,
   "metadata": {},
   "outputs": [
    {
     "name": "stdout",
     "output_type": "stream",
     "text": [
      "   first_name  id  roll-no\n",
      "0         anu  11      NaN\n",
      "1       mehak  13      NaN\n",
      "2       reena  14      NaN\n",
      "3       rohit  16      NaN\n",
      "4      ankush  17      NaN\n",
      "5        kush  22      NaN\n",
      "0        aman  21    101.0\n",
      "1       gaman  26    102.0\n",
      "2  sehajpreet  27    103.0\n",
      "0     guntash  20      NaN\n",
      "1     jasleen  22      NaN\n",
      "2       sehaj  25      NaN\n"
     ]
    }
   ],
   "source": [
    "a1=pd.concat([df1,df3,df2])\n",
    "print(a1)"
   ]
  },
  {
   "cell_type": "code",
   "execution_count": 53,
   "metadata": {},
   "outputs": [
    {
     "name": "stdout",
     "output_type": "stream",
     "text": [
      "    first_name  id  roll-no\n",
      "1          anu  11      NaN\n",
      "2        mehak  13      NaN\n",
      "3        reena  14      NaN\n",
      "4        rohit  16      NaN\n",
      "5       ankush  17      NaN\n",
      "6         kush  22      NaN\n",
      "7         aman  21    101.0\n",
      "8        gaman  26    102.0\n",
      "9   sehajpreet  27    103.0\n",
      "10     guntash  20      NaN\n",
      "11     jasleen  22      NaN\n",
      "12       sehaj  25      NaN\n"
     ]
    }
   ],
   "source": [
    "a1.index=range(1,13)\n",
    "print(a1)"
   ]
  },
  {
   "cell_type": "code",
   "execution_count": 54,
   "metadata": {},
   "outputs": [
    {
     "name": "stdout",
     "output_type": "stream",
     "text": [
      "  first_name  id  first_name    id  roll-no first_name    id\n",
      "0        anu  11        aman  21.0    101.0    guntash  20.0\n",
      "1      mehak  13       gaman  26.0    102.0    jasleen  22.0\n",
      "2      reena  14  sehajpreet  27.0    103.0      sehaj  25.0\n",
      "3      rohit  16         NaN   NaN      NaN        NaN   NaN\n",
      "4     ankush  17         NaN   NaN      NaN        NaN   NaN\n",
      "5       kush  22         NaN   NaN      NaN        NaN   NaN\n"
     ]
    }
   ],
   "source": [
    "a2=pd.concat([df1,df3,df2],axis=1)\n",
    "print(a2)"
   ]
  },
  {
   "cell_type": "code",
   "execution_count": 55,
   "metadata": {
    "collapsed": true
   },
   "outputs": [],
   "source": [
    "#a2.columns=[ 'id' ,'first_name'  ,'id' , 'first_name' ,   'roll-no' ,'id' ,'first_name']\n",
    "#print(a2)"
   ]
  },
  {
   "cell_type": "markdown",
   "metadata": {},
   "source": [
    "# merging\n"
   ]
  },
  {
   "cell_type": "code",
   "execution_count": 58,
   "metadata": {},
   "outputs": [
    {
     "name": "stdout",
     "output_type": "stream",
     "text": [
      "  first_name_x  id first_name_y\n",
      "0         kush  22      jasleen\n"
     ]
    }
   ],
   "source": [
    "inner_merged_dataframe = pd.merge(df1, df2, on= \"id\", how= \"inner\")\n",
    "print(inner_merged_dataframe)"
   ]
  },
  {
   "cell_type": "code",
   "execution_count": 59,
   "metadata": {},
   "outputs": [
    {
     "name": "stdout",
     "output_type": "stream",
     "text": [
      "  first_name_x  id first_name_y\n",
      "0          anu  11          NaN\n",
      "1        mehak  13          NaN\n",
      "2        reena  14          NaN\n",
      "3        rohit  16          NaN\n",
      "4       ankush  17          NaN\n",
      "5         kush  22      jasleen\n",
      "6          NaN  20      guntash\n",
      "7          NaN  25        sehaj\n"
     ]
    }
   ],
   "source": [
    "OUTER_merged_dataframe = pd.merge(df1, df2, on= \"id\", how= \"outer\")\n",
    "print(OUTER_merged_dataframe)"
   ]
  },
  {
   "cell_type": "code",
   "execution_count": 56,
   "metadata": {},
   "outputs": [
    {
     "name": "stdout",
     "output_type": "stream",
     "text": [
      "  first_name_x  id first_name_y\n",
      "0          anu  11          NaN\n",
      "1        mehak  13          NaN\n",
      "2        reena  14          NaN\n",
      "3        rohit  16          NaN\n",
      "4       ankush  17          NaN\n",
      "5         kush  22      jasleen\n"
     ]
    }
   ],
   "source": [
    "LEFT_merged_dataframe = pd.merge(df1, df2, on= \"id\", how= \"left\")\n",
    "print(LEFT_merged_dataframe)"
   ]
  },
  {
   "cell_type": "code",
   "execution_count": 57,
   "metadata": {},
   "outputs": [
    {
     "name": "stdout",
     "output_type": "stream",
     "text": [
      "  first_name_x  id first_name_y\n",
      "0         kush  22      jasleen\n",
      "1          NaN  20      guntash\n",
      "2          NaN  25        sehaj\n"
     ]
    }
   ],
   "source": [
    "RIGHT_merged_dataframe = pd.merge(df1, df2, on= \"id\", how= \"right\")\n",
    "print(RIGHT_merged_dataframe)"
   ]
  }
 ],
 "metadata": {
  "kernelspec": {
   "display_name": "Python 3",
   "language": "python",
   "name": "python3"
  },
  "language_info": {
   "codemirror_mode": {
    "name": "ipython",
    "version": 3
   },
   "file_extension": ".py",
   "mimetype": "text/x-python",
   "name": "python",
   "nbconvert_exporter": "python",
   "pygments_lexer": "ipython3",
   "version": "3.6.3"
  }
 },
 "nbformat": 4,
 "nbformat_minor": 2
}

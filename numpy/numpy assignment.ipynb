{
 "cells": [
  {
   "cell_type": "code",
   "execution_count": 112,
   "metadata": {},
   "outputs": [
    {
     "name": "stdout",
     "output_type": "stream",
     "text": [
      "[ 0.  0.  0.  0.  0.  0.  0.  0.  0.  0.]\n"
     ]
    }
   ],
   "source": [
    "#1. Create a null vector of size 10\n",
    "import numpy as np\n",
    "a=np.zeros(10)\n",
    "print(a)\n",
    "\n"
   ]
  },
  {
   "cell_type": "code",
   "execution_count": 113,
   "metadata": {},
   "outputs": [
    {
     "name": "stdout",
     "output_type": "stream",
     "text": [
      "[ 0.  0.  0.  0.  1.  0.  0.  0.  0.  0.]\n"
     ]
    }
   ],
   "source": [
    "#2. Create a null vector of size 10 but the fifth value which is 1\n",
    "a[4]=1\n",
    "print(a)\n"
   ]
  },
  {
   "cell_type": "code",
   "execution_count": 114,
   "metadata": {},
   "outputs": [
    {
     "name": "stdout",
     "output_type": "stream",
     "text": [
      "[[0 1 2]\n",
      " [3 4 5]\n",
      " [6 7 8]]\n"
     ]
    }
   ],
   "source": [
    "#3. Create a 3x3 matrix with values ranging from 0 to 8\n",
    "print(np.arange(9).reshape(3,3))\n"
   ]
  },
  {
   "cell_type": "code",
   "execution_count": 115,
   "metadata": {},
   "outputs": [
    {
     "name": "stdout",
     "output_type": "stream",
     "text": [
      "[[ 0.10396439  0.0814899   0.65889009  0.57792948  0.56967249  0.18165899\n",
      "   0.65618846  0.89009298  0.98091254  0.00853622]\n",
      " [ 0.90881268  0.23750129  0.54385313  0.84269439  0.75223506  0.17167376\n",
      "   0.52665287  0.91143151  0.941489    0.97530056]\n",
      " [ 0.21779522  0.71316726  0.11782056  0.19560815  0.807319    0.33552761\n",
      "   0.15555344  0.04609271  0.30165487  0.52843753]\n",
      " [ 0.41771848  0.12191624  0.17388138  0.48585338  0.40307922  0.4068069\n",
      "   0.01163817  0.71842345  0.12017531  0.59451788]\n",
      " [ 0.63607615  0.73469856  0.02463024  0.77988591  0.85034247  0.1792026\n",
      "   0.27691652  0.7258253   0.51173655  0.51226996]\n",
      " [ 0.88093007  0.90838604  0.74931615  0.6028814   0.44479236  0.07054689\n",
      "   0.28092277  0.91490737  0.55887579  0.22997977]\n",
      " [ 0.19618084  0.9903236   0.58687347  0.2732252   0.35505588  0.62109865\n",
      "   0.41959534  0.60386379  0.77576023  0.46913861]\n",
      " [ 0.62969932  0.03129954  0.17814025  0.78521007  0.72245912  0.91301706\n",
      "   0.79328016  0.51070074  0.67998339  0.32122327]\n",
      " [ 0.57989812  0.94539449  0.41597045  0.43130535  0.0198948   0.12031657\n",
      "   0.4791488   0.62530471  0.57829755  0.8886911 ]\n",
      " [ 0.84190468  0.10678358  0.83294609  0.00757952  0.72548504  0.05529271\n",
      "   0.84303607  0.45408236  0.55658392  0.13737522]]\n",
      "0.00757951634728\n",
      "0.990323604234\n"
     ]
    }
   ],
   "source": [
    "#4. Create a 10x10 array with random values and find the minimum and maximumvalues\n",
    "a=np.random.random(100).reshape(10,10)\n",
    "print(a)\n",
    "print(np.min(a))\n",
    "print(np.max(a))"
   ]
  },
  {
   "cell_type": "code",
   "execution_count": 116,
   "metadata": {},
   "outputs": [
    {
     "name": "stdout",
     "output_type": "stream",
     "text": [
      "[[ 1.  0.  0.]\n",
      " [ 0.  1.  0.]\n",
      " [ 0.  0.  1.]]\n"
     ]
    }
   ],
   "source": [
    "#5. Create a 3x3 identity matrix\n",
    "print(np.eye(3,3))"
   ]
  },
  {
   "cell_type": "code",
   "execution_count": 117,
   "metadata": {},
   "outputs": [
    {
     "name": "stdout",
     "output_type": "stream",
     "text": [
      "[ 0.48063821  0.11196847  0.73826095  0.96904285  0.77861902  0.47076261\n",
      "  0.6123805   0.24178747  0.0320505   0.88733656  0.09379208  0.69233352\n",
      "  0.59561111  0.91004645  0.65705421  0.36335041  0.46803501  0.00815018\n",
      "  0.63524348  0.47720576  0.22500231  0.7747836   0.36735854  0.27235525\n",
      "  0.25119342  0.64295745  0.35868284  0.03002371  0.64310656  0.38077731]\n",
      "0.472330344592\n"
     ]
    }
   ],
   "source": [
    "#6. Create a random vector of size 30 and find the mean value\n",
    "\n",
    "import pandas as pd\n",
    "a=np.random.random(30)\n",
    "print(a)\n",
    "m=a.mean()\n",
    "print(m)"
   ]
  },
  {
   "cell_type": "code",
   "execution_count": 118,
   "metadata": {},
   "outputs": [
    {
     "name": "stdout",
     "output_type": "stream",
     "text": [
      "[7 6 5 4 3 2 1 0]\n"
     ]
    }
   ],
   "source": [
    "#7. Reverse a vector (first element becomes last)\n",
    "a=np.arange(8)\n",
    "print(a[::-1])"
   ]
  },
  {
   "cell_type": "code",
   "execution_count": 119,
   "metadata": {},
   "outputs": [
    {
     "name": "stdout",
     "output_type": "stream",
     "text": [
      "(array([0, 1, 4], dtype=int64),)\n"
     ]
    }
   ],
   "source": [
    "#8. Find indices of non-zero elements from [1,2,0,0,4,0]\n",
    "print(np.array([1,2,0,0,4,0]).nonzero())\n"
   ]
  },
  {
   "cell_type": "code",
   "execution_count": 120,
   "metadata": {},
   "outputs": [
    {
     "name": "stdout",
     "output_type": "stream",
     "text": [
      "[[ 1.  1.  1.  1.]\n",
      " [ 1.  0.  0.  1.]\n",
      " [ 1.  0.  0.  1.]\n",
      " [ 1.  1.  1.  1.]]\n"
     ]
    }
   ],
   "source": [
    "#9. Create a 2d array with 1 on the border and 0 inside\n",
    "a=np.ones((4,4))\n",
    "a[1:-1,1:-1] = 0\n",
    "print(a)"
   ]
  }
 ],
 "metadata": {
  "kernelspec": {
   "display_name": "Python 3",
   "language": "python",
   "name": "python3"
  },
  "language_info": {
   "codemirror_mode": {
    "name": "ipython",
    "version": 3
   },
   "file_extension": ".py",
   "mimetype": "text/x-python",
   "name": "python",
   "nbconvert_exporter": "python",
   "pygments_lexer": "ipython3",
   "version": "3.6.3"
  }
 },
 "nbformat": 4,
 "nbformat_minor": 2
}
